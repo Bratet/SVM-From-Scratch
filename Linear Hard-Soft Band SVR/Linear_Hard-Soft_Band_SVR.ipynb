{
 "cells": [
  {
   "cell_type": "code",
   "execution_count": 1,
   "metadata": {},
   "outputs": [],
   "source": [
    "\n",
    "import numpy as np\n",
    "import matplotlib.pyplot as plt\n",
    "import random\n",
    "\n",
    "import pandas as pd"
   ]
  },
  {
   "cell_type": "code",
   "execution_count": 2,
   "metadata": {},
   "outputs": [],
   "source": [
    "# read the data from the csv file\n",
    "data = pd.read_csv('simple_data.csv')\n",
    "\n",
    "# split the data into X and y\n",
    "X = data.iloc[:, 0].values.reshape(-1, 1)\n",
    "y = data.iloc[:, 1].values.reshape(-1, 1)"
   ]
  },
  {
   "cell_type": "code",
   "execution_count": 3,
   "metadata": {},
   "outputs": [],
   "source": [
    "import numpy as np\n",
    "\n",
    "def linear_kernel(x1, x2):\n",
    "    return np.dot(x1, x2)\n",
    "\n",
    "def take_step(i1, i2, X, y, alpha, alpha_star, C, E, b, kernel, eps = 1e-5):\n",
    "    if i1 == i2:\n",
    "        return False, alpha, alpha_star, E, b\n",
    "    \n",
    "    \n",
    "\n",
    "    alpha1 = alpha[i1]\n",
    "    alpha_star1 = alpha_star[i1]\n",
    "    y1 = y[i1]\n",
    "    E1 = E[i1]\n",
    "    alpha2 = alpha[i2]\n",
    "    alpha_star2 = alpha_star[i2]\n",
    "    y2 = y[i2]\n",
    "    E2 = E[i2]\n",
    "\n",
    "    s = y1 * y2\n",
    "\n",
    "    L = max(0, alpha2 + alpha_star1 - C)\n",
    "    H = min(C, alpha2 + alpha_star2)\n",
    "\n",
    "    if L == H:\n",
    "        return False, alpha, alpha_star, E, b\n",
    "\n",
    "    k11 = kernel(X[i1], X[i1])\n",
    "    k12 = kernel(X[i1], X[i2])\n",
    "    k22 = kernel(X[i2], X[i2])\n",
    "    eta = k11 + k22 - 2 * k12\n",
    "\n",
    "    if eta > 0:\n",
    "        alpha2_new = alpha2 + y2 * (E1 - E2) / eta\n",
    "        if alpha2_new < L:\n",
    "            alpha2_new = L\n",
    "        elif alpha2_new > H:\n",
    "            alpha2_new = H\n",
    "    else:\n",
    "        f1 = y1 * (E1 + b) - alpha1 + alpha_star1\n",
    "        f2 = y2 * (E2 + b) - alpha2 + alpha_star2\n",
    "        L1 = alpha1 + s * (alpha2 - L)\n",
    "        H1 = alpha1 + s * (alpha2 - H)\n",
    "        Lobj = L1 - s * L + f1 * L / y1 + f2 * L1 / y2\n",
    "        Hobj = H1 - s * H + f1 * H / y1 + f2 * H1 / y2\n",
    "\n",
    "        if Lobj < Hobj - eps:\n",
    "            alpha2_new = H\n",
    "        elif Lobj > Hobj + eps:\n",
    "            alpha2_new = L\n",
    "        else:\n",
    "            alpha2_new = alpha2\n",
    "\n",
    "    if abs(alpha2_new - alpha2) < eps * (alpha2_new + alpha2 + eps):\n",
    "        return False, alpha, alpha_star, E, b\n",
    "\n",
    "    alpha1_new = alpha1 + s * (alpha2 - alpha2_new)\n",
    "    alpha_star1_new = min(max(alpha_star1 + y1 * (E1 - E2), 0), C)\n",
    "    alpha_star2_new = min(max(alpha_star2 - y2 * (E1 - E2), 0), C)\n",
    "\n",
    "    b_new = b + E1 + y1 * (alpha1_new - alpha1) + y2 * (alpha_star2_new - alpha_star2) * k12 + y1 * (alpha_star1_new - alpha_star1) * k11\n",
    "\n",
    "    alpha[i1] = alpha1_new\n",
    "    alpha_star[i1] = alpha_star1_new\n",
    "    alpha[i2] = alpha2_new\n",
    "    alpha_star[i2] = alpha_star2_new\n",
    "    b = b_new\n",
    "\n",
    "    E[i1] = np.dot(alpha - alpha_star, kernel(X, X[i1])) - y[i1] + b\n",
    "    E[i2] = np.dot(alpha - alpha_star, kernel(X, X[i2])) - y[i2] + b\n",
    "\n",
    "    return True, alpha, alpha_star, E, b\n",
    "\n",
    "\n",
    "def examine_example(i2, X, y, alpha, alpha_star, C, E, b, kernel, tol=1e-3):\n",
    "    alpha2 = alpha[i2]\n",
    "    alpha_star2 = alpha_star[i2]\n",
    "    y2 = y[i2]\n",
    "    E2 = E[i2]\n",
    "    r2 = E2 * y2\n",
    "\n",
    "    if not (((r2 < -tol) & (alpha_star2 < C)).any() or ((r2 > tol) & (alpha2 < C)).any()):\n",
    "        return False, alpha, alpha_star, E, b\n",
    "\n",
    "    if np.sum((alpha != 0) & (alpha != C)) > 1:\n",
    "        if E2 > 0:\n",
    "            i1 = np.argmin(E)\n",
    "        else:\n",
    "            i1 = np.argmax(E)\n",
    "        changed, alpha, alpha_star, E, b = take_step(i1, i2, X, y, alpha, alpha_star, C, E, b, kernel)\n",
    "        if changed:\n",
    "            return True, alpha, alpha_star, E, b\n",
    "\n",
    "    for i1 in np.roll(np.where((alpha != 0) & (alpha != C))[0], np.random.choice(np.arange(X.shape[0]))):\n",
    "        changed, alpha, alpha_star, E, b = take_step(i1, i2, X, y, alpha, alpha_star, C, E, b, kernel)\n",
    "        if changed:\n",
    "            return True, alpha, alpha_star, E, b\n",
    "\n",
    "    for i1 in np.roll(np.arange(X.shape[0]), np.random.choice(np.arange(X.shape[0]))):\n",
    "        changed, alpha, alpha_star, E, b = take_step(i1, i2, X, y, alpha, alpha_star, C, E, b, kernel)\n",
    "        if changed:\n",
    "            return True, alpha, alpha_star, E, b\n",
    "\n",
    "    return False, alpha, alpha_star, E, b\n",
    "\n",
    "\n",
    "def SMO(X, y, C, kernel, tol=1e-3, max_iter=1000):\n",
    "    n_samples = X.shape[0]\n",
    "    alpha = np.zeros(n_samples)\n",
    "    alpha_star = np.zeros(n_samples)\n",
    "    b = 0.0\n",
    "\n",
    "    E = np.dot(alpha - alpha_star, kernel(X, X.T)) - y + b\n",
    "\n",
    "    numChanged = 0\n",
    "    examineAll = 1\n",
    "\n",
    "    while numChanged > 0 or examineAll:\n",
    "        numChanged = 0\n",
    "        if examineAll:\n",
    "            for i in range(n_samples):\n",
    "                changed, alpha, alpha_star, E, b = examine_example(i, X, y, alpha, alpha_star, C, E, b, kernel)\n",
    "                if changed:\n",
    "                    numChanged += 1\n",
    "        else:\n",
    "            for i in np.where((alpha != 0) & (alpha != C))[0]:\n",
    "                changed, alpha, alpha_star, E, b = examine_example(i, X, y, alpha, alpha_star, C, E, b, kernel)\n",
    "                if changed:\n",
    "                    numChanged += 1\n",
    "        if examineAll == 1:\n",
    "            examineAll = 0\n",
    "        elif numChanged == 0:\n",
    "            examineAll = 1\n",
    "\n",
    "    return alpha, alpha_star, b"
   ]
  },
  {
   "cell_type": "code",
   "execution_count": 4,
   "metadata": {},
   "outputs": [],
   "source": [
    "# get the alphas and bias term\n",
    "alpha, alpha_star, b = SMO(X, y, 1, linear_kernel)"
   ]
  },
  {
   "cell_type": "code",
   "execution_count": 5,
   "metadata": {},
   "outputs": [
    {
     "name": "stdout",
     "output_type": "stream",
     "text": [
      "[0. 0. 0. 0. 0. 0. 0. 0. 0. 0. 0. 0. 0. 0. 0. 0. 0. 0. 0. 0. 0. 0. 0. 0.\n",
      " 0. 0. 0. 0. 0. 0. 0. 0. 0. 0. 0. 0. 0. 0. 0. 0. 0. 0. 0. 0. 0. 0. 0. 0.\n",
      " 0. 0. 0. 0. 0. 0. 0. 0. 0. 0. 0. 0. 0. 0. 0. 0. 0. 0. 0. 0. 0. 0. 0. 0.\n",
      " 0. 0. 0. 0. 0. 0. 0. 0. 0. 0. 0. 0. 0. 0. 0. 0. 0. 0. 0. 0. 0. 0. 0. 0.\n",
      " 0. 0. 0. 0.] 0.0\n"
     ]
    }
   ],
   "source": [
    "print(alpha, b)"
   ]
  },
  {
   "cell_type": "code",
   "execution_count": 6,
   "metadata": {},
   "outputs": [
    {
     "data": {
      "image/png": "[encoded data removed]",
      "text/plain": [
       "<Figure size 640x480 with 1 Axes>"
      ]
     },
     "metadata": {},
     "output_type": "display_data"
    }
   ],
   "source": [
    "# plot the svr\n",
    "plt.scatter(X, y, color='black')\n",
    "\n",
    "plt.show()"
   ]
  }
 ],
 "metadata": {
  "kernelspec": {
   "display_name": "base",
   "language": "python",
   "name": "python3"
  },
  "language_info": {
   "codemirror_mode": {
    "name": "ipython",
    "version": 3
   },
   "file_extension": ".py",
   "mimetype": "text/x-python",
   "name": "python",
   "nbconvert_exporter": "python",
   "pygments_lexer": "ipython3",
   "version": "3.9.13"
  },
  "orig_nbformat": 4
 },
 "nbformat": 4,
 "nbformat_minor": 2
}
